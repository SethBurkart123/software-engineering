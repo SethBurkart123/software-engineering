{
 "cells": [
  {
   "cell_type": "markdown",
   "metadata": {},
   "source": [
    "# Question 6\n",
    "Write a nested loop to print the following pattern:\n",
    "A\n",
    "AB\n",
    "ABC\n",
    "ABCD\n",
    "ABCDE"
   ]
  },
  {
   "cell_type": "code",
   "execution_count": 10,
   "metadata": {},
   "outputs": [
    {
     "name": "stdout",
     "output_type": "stream",
     "text": [
      "A\n",
      "AB\n",
      "ABC\n",
      "ABCD\n"
     ]
    }
   ],
   "source": [
    "for i in range(1, 5):\n",
    "    for j in range(i):\n",
    "        print(chr(65 + j), end=\"\") # stop the print from placing a newline between each\n",
    "    print() # make a newline between each row\n",
    "    i += 1"
   ]
  },
  {
   "cell_type": "markdown",
   "metadata": {},
   "source": [
    "# Question 7\n",
    "Given a 2x2 matrix, write a nested FOR loop to calculate and print the sum of all elements in the matrix.\n",
    "matrix = [\n",
    "    [1, 2],\n",
    "    [3, 4]\n",
    "]"
   ]
  },
  {
   "cell_type": "code",
   "execution_count": 5,
   "metadata": {},
   "outputs": [
    {
     "name": "stdout",
     "output_type": "stream",
     "text": [
      "10\n"
     ]
    }
   ],
   "source": [
    "matrix = [[1, 2], [3, 4]]\n",
    "final = 0\n",
    "for i in matrix:\n",
    "    for element in i:\n",
    "        final += element\n",
    "print(final)"
   ]
  },
  {
   "cell_type": "code",
   "execution_count": 2,
   "metadata": {},
   "outputs": [
    {
     "name": "stdout",
     "output_type": "stream",
     "text": [
      "Varoom!\n"
     ]
    }
   ],
   "source": [
    "class Car():\n",
    "  number_doors = 4\n",
    "  def moving(self):\n",
    "    print(\"Varoom!\")\n",
    "\n",
    "my_car = Car()\n",
    "my_car.moving()"
   ]
  },
  {
   "cell_type": "code",
   "execution_count": 6,
   "metadata": {},
   "outputs": [
    {
     "name": "stdout",
     "output_type": "stream",
     "text": [
      "Toyota is a 4 door Red Corolla costing $15000\n",
      "The number of doors on my car is 4\n",
      "Ford is a 2 door Blue Fiesta costing $10000\n",
      "The number of doors on my friends car is 2\n"
     ]
    }
   ],
   "source": [
    "class Car():\n",
    "  def __init__(self, name, number_doors, colour, model, cost):\n",
    "    self.name = name\n",
    "    self.number_doors = number_doors\n",
    "    self.colour = colour\n",
    "    self.model = model\n",
    "    self.cost = cost\n",
    "  \n",
    "  def moving(self):\n",
    "    print(\"Varoom!\")\n",
    "\n",
    "  def description(self):\n",
    "    print(f\"{self.name} is a {self.number_doors} door {self.colour} {self.model} costing ${self.cost}\")\n",
    "\n",
    "my_car = Car(\"Toyota\", 4, \"Red\", \"Corolla\", 15000)\n",
    "my_car.description()\n",
    "print(f'The number of doors on my car is {my_car.number_doors}')\n",
    "\n",
    "friends_car = Car(\"Ford\", 2, \"Blue\", \"Fiesta\", 10000)\n",
    "friends_car.description()\n",
    "print(f'The number of doors on my friends car is {friends_car.number_doors}')"
   ]
  },
  {
   "cell_type": "code",
   "execution_count": 10,
   "metadata": {},
   "outputs": [
    {
     "name": "stdout",
     "output_type": "stream",
     "text": [
      "Fortnightly pay for Seth: $3846.15\n",
      "Fortnightly pay for Joe: $4615.38\n",
      "Number of employees: 2\n"
     ]
    }
   ],
   "source": [
    "class Person():\n",
    "  count = 0\n",
    "  def __init__(self, name, surname, salary):\n",
    "    self.name = name\n",
    "    self.surname = surname\n",
    "    self.salary = salary\n",
    "    Person.count += 1\n",
    "\n",
    "  def pay(self):\n",
    "    return f'${str(round(self.salary/26, 2))}'\n",
    "  \n",
    "seth = Person(\"Seth\", \"Burkart\", 100000)\n",
    "joe = Person(\"Joe\", \"Blogs\", 120000)\n",
    "print(\"Fortnightly pay for Seth:\", seth.pay())\n",
    "print(\"Fortnightly pay for Joe:\", joe.pay())\n",
    "\n",
    "print('Number of employees:', Person.count)\n"
   ]
  },
  {
   "cell_type": "code",
   "execution_count": 1,
   "metadata": {},
   "outputs": [
    {
     "name": "stdout",
     "output_type": "stream",
     "text": [
      "hi\n",
      "Buddy says Woof!\n"
     ]
    }
   ],
   "source": [
    "class Dog:\n",
    "  def __init__(self, name, age):\n",
    "    self.name = name\n",
    "    self.age = age\n",
    "\n",
    "  def bark(self):\n",
    "    print(f\"{self.name} says Woof!\")\n",
    "\n",
    "my_dog = Dog(\"Buddy\", 3)\n",
    "print('hi')\n",
    "my_dog.bark()"
   ]
  }
 ],
 "metadata": {
  "kernelspec": {
   "display_name": "Python 3",
   "language": "python",
   "name": "python3"
  },
  "language_info": {
   "codemirror_mode": {
    "name": "ipython",
    "version": 3
   },
   "file_extension": ".py",
   "mimetype": "text/x-python",
   "name": "python",
   "nbconvert_exporter": "python",
   "pygments_lexer": "ipython3",
   "version": "3.11.9"
  }
 },
 "nbformat": 4,
 "nbformat_minor": 2
}
